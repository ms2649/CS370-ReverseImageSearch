{
  "nbformat": 4,
  "nbformat_minor": 0,
  "metadata": {
    "colab": {
      "name": "Part 2ReverseVisualSearch",
      "provenance": [],
      "collapsed_sections": []
    },
    "kernelspec": {
      "name": "python3",
      "display_name": "Python 3"
    },
    "language_info": {
      "name": "python"
    },
    "accelerator": "GPU"
  },
  "cells": [
    {
      "cell_type": "markdown",
      "source": [
        "# Part 2"
      ],
      "metadata": {
        "id": "tyjvX27LXNkt"
      }
    },
    {
      "cell_type": "code",
      "source": [
        "#Press Runtime -> Run All to run, may take some time\n",
        "!pip install git+https://github.com/ageitgey/face_recognition"
      ],
      "metadata": {
        "id": "4M8paYqeXPJd",
        "colab": {
          "base_uri": "https://localhost:8080/"
        },
        "outputId": "130c173c-07f2-41ad-f3c2-7d132d844bb4"
      },
      "execution_count": 161,
      "outputs": [
        {
          "output_type": "stream",
          "name": "stdout",
          "text": [
            "Collecting git+https://github.com/ageitgey/face_recognition\n",
            "  Cloning https://github.com/ageitgey/face_recognition to /tmp/pip-req-build-c_jbdpsn\n",
            "  Running command git clone -q https://github.com/ageitgey/face_recognition /tmp/pip-req-build-c_jbdpsn\n",
            "  Installing build dependencies ... \u001b[?25l\u001b[?25hdone\n",
            "  Getting requirements to build wheel ... \u001b[?25l\u001b[?25hdone\n",
            "    Preparing wheel metadata ... \u001b[?25l\u001b[?25hdone\n",
            "Requirement already satisfied: Click>=6.0 in /usr/local/lib/python3.7/dist-packages (from face-recognition==1.4.0) (7.1.2)\n",
            "Requirement already satisfied: face-recognition-models>=0.3.0 in /usr/local/lib/python3.7/dist-packages (from face-recognition==1.4.0) (0.3.0)\n",
            "Requirement already satisfied: numpy in /usr/local/lib/python3.7/dist-packages (from face-recognition==1.4.0) (1.21.6)\n",
            "Requirement already satisfied: Pillow in /usr/local/lib/python3.7/dist-packages (from face-recognition==1.4.0) (7.1.2)\n",
            "Requirement already satisfied: dlib>=19.7 in /usr/local/lib/python3.7/dist-packages (from face-recognition==1.4.0) (19.18.0)\n"
          ]
        }
      ]
    },
    {
      "cell_type": "code",
      "source": [
        "!pip install -v --install-option=\"--no\" --install-option=\"DLIB_USE_CUDA\" dlib"
      ],
      "metadata": {
        "id": "Ae0tEr3nVmew",
        "colab": {
          "base_uri": "https://localhost:8080/"
        },
        "outputId": "29c2582d-6362-442c-b4a6-4dd9b751bff4"
      },
      "execution_count": 162,
      "outputs": [
        {
          "output_type": "stream",
          "name": "stdout",
          "text": [
            "/usr/local/lib/python3.7/dist-packages/pip/_internal/commands/install.py:232: UserWarning: Disabling all use of wheels due to the use of --build-option / --global-option / --install-option.\n",
            "  cmdoptions.check_install_build_global(options)\n",
            "Using pip 21.1.3 from /usr/local/lib/python3.7/dist-packages/pip (python 3.7)\n",
            "Value for scheme.platlib does not match. Please report this to <https://github.com/pypa/pip/issues/9617>\n",
            "distutils: /usr/local/lib/python3.7/dist-packages\n",
            "sysconfig: /usr/lib/python3.7/site-packages\n",
            "Value for scheme.purelib does not match. Please report this to <https://github.com/pypa/pip/issues/9617>\n",
            "distutils: /usr/local/lib/python3.7/dist-packages\n",
            "sysconfig: /usr/lib/python3.7/site-packages\n",
            "Value for scheme.headers does not match. Please report this to <https://github.com/pypa/pip/issues/9617>\n",
            "distutils: /usr/local/include/python3.7/UNKNOWN\n",
            "sysconfig: /usr/include/python3.7m/UNKNOWN\n",
            "Value for scheme.scripts does not match. Please report this to <https://github.com/pypa/pip/issues/9617>\n",
            "distutils: /usr/local/bin\n",
            "sysconfig: /usr/bin\n",
            "Value for scheme.data does not match. Please report this to <https://github.com/pypa/pip/issues/9617>\n",
            "distutils: /usr/local\n",
            "sysconfig: /usr\n",
            "Additional context:\n",
            "user = False\n",
            "home = None\n",
            "root = None\n",
            "prefix = None\n",
            "Non-user install because site-packages writeable\n",
            "Created temporary directory: /tmp/pip-ephem-wheel-cache-1vgijve1\n",
            "Created temporary directory: /tmp/pip-req-tracker-d8ag5bvl\n",
            "Initialized build tracking at /tmp/pip-req-tracker-d8ag5bvl\n",
            "Created build tracker: /tmp/pip-req-tracker-d8ag5bvl\n",
            "Entered build tracker: /tmp/pip-req-tracker-d8ag5bvl\n",
            "Created temporary directory: /tmp/pip-install-h6efq8s0\n",
            "Requirement already satisfied: dlib in /usr/local/lib/python3.7/dist-packages (19.18.0)\n",
            "Created temporary directory: /tmp/pip-unpack-s8tmt5mm\n",
            "Value for scheme.platlib does not match. Please report this to <https://github.com/pypa/pip/issues/9617>\n",
            "distutils: /usr/local/lib/python3.7/dist-packages\n",
            "sysconfig: /usr/lib/python3.7/site-packages\n",
            "Value for scheme.purelib does not match. Please report this to <https://github.com/pypa/pip/issues/9617>\n",
            "distutils: /usr/local/lib/python3.7/dist-packages\n",
            "sysconfig: /usr/lib/python3.7/site-packages\n",
            "Value for scheme.headers does not match. Please report this to <https://github.com/pypa/pip/issues/9617>\n",
            "distutils: /usr/local/include/python3.7/UNKNOWN\n",
            "sysconfig: /usr/include/python3.7m/UNKNOWN\n",
            "Value for scheme.scripts does not match. Please report this to <https://github.com/pypa/pip/issues/9617>\n",
            "distutils: /usr/local/bin\n",
            "sysconfig: /usr/bin\n",
            "Value for scheme.data does not match. Please report this to <https://github.com/pypa/pip/issues/9617>\n",
            "distutils: /usr/local\n",
            "sysconfig: /usr\n",
            "Additional context:\n",
            "user = False\n",
            "home = None\n",
            "root = None\n",
            "prefix = None\n",
            "Removed build tracker: '/tmp/pip-req-tracker-d8ag5bvl'\n"
          ]
        }
      ]
    },
    {
      "cell_type": "code",
      "source": [
        "!pip install opencv-python"
      ],
      "metadata": {
        "colab": {
          "base_uri": "https://localhost:8080/"
        },
        "id": "hIBLEURbb3Kz",
        "outputId": "7aa61ca7-386e-469e-86b8-8be4aee78882"
      },
      "execution_count": 163,
      "outputs": [
        {
          "output_type": "stream",
          "name": "stdout",
          "text": [
            "Requirement already satisfied: opencv-python in /usr/local/lib/python3.7/dist-packages (4.1.2.30)\n",
            "Requirement already satisfied: numpy>=1.14.5 in /usr/local/lib/python3.7/dist-packages (from opencv-python) (1.21.6)\n"
          ]
        }
      ]
    },
    {
      "cell_type": "code",
      "source": [
        "import face_recognition\n",
        "import numpy as np\n",
        "import matplotlib.pyplot as plt\n",
        "from PIL import Image"
      ],
      "metadata": {
        "id": "LC4t1Y6PVqF3"
      },
      "execution_count": 164,
      "outputs": []
    },
    {
      "cell_type": "code",
      "source": [
        "import os\n",
        "import keras\n",
        "from keras.preprocessing import image\n",
        "from keras.applications.imagenet_utils import decode_predictions, preprocess_input\n",
        "from keras.applications.resnet import ResNet101\n",
        "import numpy as np\n",
        "import matplotlib.pyplot as plt"
      ],
      "metadata": {
        "id": "X2H4r4-dUu5C"
      },
      "execution_count": 165,
      "outputs": []
    },
    {
      "cell_type": "code",
      "source": [
        "!gdown --id 1VKrl_Ehig5q4b56ZUcQJzn5H0XofqxNS\n",
        "!unzip /content/lfw.zip"
      ],
      "metadata": {
        "id": "G8pHYsUFVrtk"
      },
      "execution_count": null,
      "outputs": []
    },
    {
      "cell_type": "code",
      "source": [
        "import keras\n",
        "from keras.preprocessing import image\n",
        "\n",
        "# Helper Function for Displaying Images\n",
        "def loadImage(filePath):\n",
        "    # Makes sure that the image from Dir is same as the model inference input (224x224)\n",
        "    img = image.load_img(filePath)\n",
        "    array = image.img_to_array(img)\n",
        "    array = np.expand_dims(array, axis=0)\n",
        "    xarray = keras.preprocessing.preprocess_input(array)\n",
        "    # Return the Image as well as the NumPy Represenation\n",
        "    return img, array"
      ],
      "metadata": {
        "id": "xyzREubvTnvH"
      },
      "execution_count": 167,
      "outputs": []
    },
    {
      "cell_type": "code",
      "source": [
        "import random\n",
        "import os\n",
        "\n",
        "numImages = 13223\n",
        "images = []\n",
        "\n",
        "dirString = \"/content/lfw/\"\n",
        "\n",
        "for file in os.listdir(dirString):\n",
        "    images.append(dirString + file)"
      ],
      "metadata": {
        "id": "Y785cmSfVz1E"
      },
      "execution_count": 168,
      "outputs": []
    },
    {
      "cell_type": "code",
      "source": [
        "import tqdm\n",
        "from tqdm import tqdm\n",
        "\n",
        "encodings = []\n",
        "\n",
        "# Get all of them \n",
        "for i, img in enumerate(tqdm(images)):\n",
        "  image = face_recognition.load_image_file(img)\n",
        "  imageEncoding = face_recognition.face_encodings(image)\n",
        "  if(len(imageEncoding)==0):\n",
        "    continue\n",
        "  encodings.append(imageEncoding[0])"
      ],
      "metadata": {
        "id": "6qAvPEjGVweP",
        "colab": {
          "base_uri": "https://localhost:8080/"
        },
        "outputId": "fb3b7648-5246-4002-c1e6-bbbed09c2c71"
      },
      "execution_count": 169,
      "outputs": [
        {
          "output_type": "stream",
          "name": "stderr",
          "text": [
            "100%|██████████| 13251/13251 [14:27<00:00, 15.28it/s]\n"
          ]
        }
      ]
    },
    {
      "cell_type": "code",
      "source": [
        "#\n",
        "def closestImages(index, numResults=5):\n",
        "  imageDistances = face_recognition.face_distance(encodings, encodings[index])\n",
        "  retDist = np.argsort(imageDistances)[:numResults]\n",
        "  return retDist"
      ],
      "metadata": {
        "id": "lJPb_W24V2oj"
      },
      "execution_count": 170,
      "outputs": []
    },
    {
      "cell_type": "code",
      "source": [
        "# Downsizes the image and returns concatenated image if multiple are passed \n",
        "def resizeImages(imageList, titles=None, cols=5, rows=4):\n",
        "    fig = plt.figure(figsize=(2 * cols, 2 * rows))\n",
        "    for i in range(len(imageList)):\n",
        "        fig.add_subplot(rows, cols, i + 1)\n",
        "        img, array = loadImage(images[imageList[i]])\n",
        "        plt.imshow(img)\n",
        "        plt.axis('off')\n",
        "        if titles is not None:\n",
        "            plt.title(titles[i])\n",
        "    plt.show()"
      ],
      "metadata": {
        "id": "9n-lYmMpJCAJ"
      },
      "execution_count": 171,
      "outputs": []
    },
    {
      "cell_type": "code",
      "source": [
        "def query(index,numImages):\n",
        "  img, arr = loadImage(images[index])\n",
        "  plt.imshow(img)\n",
        "  resizeImages(closestImages(index,numImages))"
      ],
      "metadata": {
        "id": "dU-dNXtMI9AM"
      },
      "execution_count": 172,
      "outputs": []
    },
    {
      "cell_type": "code",
      "source": [
        "query(100,10)"
      ],
      "metadata": {
        "colab": {
          "base_uri": "https://localhost:8080/",
          "height": 311
        },
        "id": "4KO8YX6B-ruT",
        "outputId": "fd0ed037-fea7-4fe1-8f27-2cd433947768"
      },
      "execution_count": 173,
      "outputs": [
        {
          "output_type": "error",
          "ename": "AttributeError",
          "evalue": "ignored",
          "traceback": [
            "\u001b[0;31m---------------------------------------------------------------------------\u001b[0m",
            "\u001b[0;31mAttributeError\u001b[0m                            Traceback (most recent call last)",
            "\u001b[0;32m<ipython-input-173-7d51f3fab2e4>\u001b[0m in \u001b[0;36m<module>\u001b[0;34m()\u001b[0m\n\u001b[0;32m----> 1\u001b[0;31m \u001b[0mquery\u001b[0m\u001b[0;34m(\u001b[0m\u001b[0;36m100\u001b[0m\u001b[0;34m,\u001b[0m\u001b[0;36m10\u001b[0m\u001b[0;34m)\u001b[0m\u001b[0;34m\u001b[0m\u001b[0;34m\u001b[0m\u001b[0m\n\u001b[0m",
            "\u001b[0;32m<ipython-input-172-44bf50a5aeb6>\u001b[0m in \u001b[0;36mquery\u001b[0;34m(index, numImages)\u001b[0m\n\u001b[1;32m      1\u001b[0m \u001b[0;32mdef\u001b[0m \u001b[0mquery\u001b[0m\u001b[0;34m(\u001b[0m\u001b[0mindex\u001b[0m\u001b[0;34m,\u001b[0m\u001b[0mnumImages\u001b[0m\u001b[0;34m)\u001b[0m\u001b[0;34m:\u001b[0m\u001b[0;34m\u001b[0m\u001b[0;34m\u001b[0m\u001b[0m\n\u001b[0;32m----> 2\u001b[0;31m   \u001b[0mimg\u001b[0m\u001b[0;34m,\u001b[0m \u001b[0marr\u001b[0m \u001b[0;34m=\u001b[0m \u001b[0mloadImage\u001b[0m\u001b[0;34m(\u001b[0m\u001b[0mimages\u001b[0m\u001b[0;34m[\u001b[0m\u001b[0mindex\u001b[0m\u001b[0;34m]\u001b[0m\u001b[0;34m)\u001b[0m\u001b[0;34m\u001b[0m\u001b[0;34m\u001b[0m\u001b[0m\n\u001b[0m\u001b[1;32m      3\u001b[0m   \u001b[0mplt\u001b[0m\u001b[0;34m.\u001b[0m\u001b[0mimshow\u001b[0m\u001b[0;34m(\u001b[0m\u001b[0mimg\u001b[0m\u001b[0;34m)\u001b[0m\u001b[0;34m\u001b[0m\u001b[0;34m\u001b[0m\u001b[0m\n\u001b[1;32m      4\u001b[0m   \u001b[0mresizeImages\u001b[0m\u001b[0;34m(\u001b[0m\u001b[0mclosestImages\u001b[0m\u001b[0;34m(\u001b[0m\u001b[0mindex\u001b[0m\u001b[0;34m,\u001b[0m\u001b[0mnumImages\u001b[0m\u001b[0;34m)\u001b[0m\u001b[0;34m)\u001b[0m\u001b[0;34m\u001b[0m\u001b[0;34m\u001b[0m\u001b[0m\n",
            "\u001b[0;32m<ipython-input-167-369164f3eaab>\u001b[0m in \u001b[0;36mloadImage\u001b[0;34m(filePath)\u001b[0m\n\u001b[1;32m      5\u001b[0m \u001b[0;32mdef\u001b[0m \u001b[0mloadImage\u001b[0m\u001b[0;34m(\u001b[0m\u001b[0mfilePath\u001b[0m\u001b[0;34m)\u001b[0m\u001b[0;34m:\u001b[0m\u001b[0;34m\u001b[0m\u001b[0;34m\u001b[0m\u001b[0m\n\u001b[1;32m      6\u001b[0m     \u001b[0;31m# Makes sure that the image from Dir is same as the model inference input (224x224)\u001b[0m\u001b[0;34m\u001b[0m\u001b[0;34m\u001b[0m\u001b[0;34m\u001b[0m\u001b[0m\n\u001b[0;32m----> 7\u001b[0;31m     \u001b[0mimg\u001b[0m \u001b[0;34m=\u001b[0m \u001b[0mimage\u001b[0m\u001b[0;34m.\u001b[0m\u001b[0mload_img\u001b[0m\u001b[0;34m(\u001b[0m\u001b[0mfilePath\u001b[0m\u001b[0;34m)\u001b[0m\u001b[0;34m\u001b[0m\u001b[0;34m\u001b[0m\u001b[0m\n\u001b[0m\u001b[1;32m      8\u001b[0m     \u001b[0marray\u001b[0m \u001b[0;34m=\u001b[0m \u001b[0mimage\u001b[0m\u001b[0;34m.\u001b[0m\u001b[0mimg_to_array\u001b[0m\u001b[0;34m(\u001b[0m\u001b[0mimg\u001b[0m\u001b[0;34m)\u001b[0m\u001b[0;34m\u001b[0m\u001b[0;34m\u001b[0m\u001b[0m\n\u001b[1;32m      9\u001b[0m     \u001b[0marray\u001b[0m \u001b[0;34m=\u001b[0m \u001b[0mnp\u001b[0m\u001b[0;34m.\u001b[0m\u001b[0mexpand_dims\u001b[0m\u001b[0;34m(\u001b[0m\u001b[0marray\u001b[0m\u001b[0;34m,\u001b[0m \u001b[0maxis\u001b[0m\u001b[0;34m=\u001b[0m\u001b[0;36m0\u001b[0m\u001b[0;34m)\u001b[0m\u001b[0;34m\u001b[0m\u001b[0;34m\u001b[0m\u001b[0m\n",
            "\u001b[0;31mAttributeError\u001b[0m: 'numpy.ndarray' object has no attribute 'load_img'"
          ]
        }
      ]
    },
    {
      "cell_type": "code",
      "source": [
        "# Generate random image to query into our model\n",
        "index = 1500\n",
        "results_image = resizeImages(closestImages(index,20), 200)\n",
        "query_image = downsizeImages([index], 300)\n",
        "\n",
        "  # Plot Query Image\n",
        "plt.figure(figsize = (5,5))\n",
        "plt.imshow(query_image)\n",
        "plt.title(\"Query Image (%d)\" % randomImg)\n",
        "\n",
        "# Plot Similar Images\n",
        "plt.figure(figsize = (16,12))\n",
        "plt.imshow(results_image)\n",
        "plt.title(\"Similar Images\")"
      ],
      "metadata": {
        "id": "7LljmfIxHfG-"
      },
      "execution_count": null,
      "outputs": []
    }
  ]
}